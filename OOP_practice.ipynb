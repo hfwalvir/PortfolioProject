{
  "nbformat": 4,
  "nbformat_minor": 0,
  "metadata": {
    "colab": {
      "provenance": [],
      "authorship_tag": "ABX9TyMZO0dzMXLxq8MC9bpe51b/",
      "include_colab_link": true
    },
    "kernelspec": {
      "name": "python3",
      "display_name": "Python 3"
    },
    "language_info": {
      "name": "python"
    }
  },
  "cells": [
    {
      "cell_type": "markdown",
      "metadata": {
        "id": "view-in-github",
        "colab_type": "text"
      },
      "source": [
        "<a href=\"https://colab.research.google.com/github/hfwalvir/PortfolioProject/blob/main/OOP_practice.ipynb\" target=\"_parent\"><img src=\"https://colab.research.google.com/assets/colab-badge.svg\" alt=\"Open In Colab\"/></a>"
      ]
    },
    {
      "cell_type": "code",
      "execution_count": 186,
      "metadata": {
        "id": "lZdUKKRMRCKK"
      },
      "outputs": [],
      "source": [
        "class Item :\n",
        "  pay_rate = 0.8 #The pay rate after 20% discount\n",
        "  all = []\n",
        "  def __init__(self,name:str,price:float,quantity=0):\n",
        "    #Run validations to the received arguments\n",
        "    assert price >= 0 , f\"Price{price} is not greater than or equal zero!\"\n",
        "    assert quantity >=0, f\"Quantity {quantity} is not greater than or equal zero!\"\n",
        "   #Assigning to self object :\n",
        "    self.__name = name\n",
        "    self.__price= price\n",
        "    self.quantity = quantity\n",
        "    #Actions to execute\n",
        "    Item.all.append(self)\n",
        "  @property\n",
        "  def price(self):\n",
        "    return self.__price\n",
        "  @property # (Read-only attribute, encapsulation)\n",
        "  def name(self):\n",
        "    return self.__name\n",
        "  def calculate_total_price(self):\n",
        "    return self.__price*self.quantity\n",
        "  def apply_discount(self):\n",
        "    self.__price = self.__price * self.pay_rate\n",
        "  def apply_increment(self,increment_value):\n",
        "    self.__price = self.__price+ self.__price *increment_value\n",
        "  @name.setter     #for setting an attribute, for overwriting the attributes\n",
        "  def name(self,value):\n",
        "      if len(value)>10:\n",
        "         raise Exception(\"The name is too long!\")\n",
        "      else :\n",
        "        self.__name = value\n",
        "\n",
        "  @classmethod            #for instantiating instances from structured data\n",
        "  def instantitate_from_csv(cls):\n",
        "    with open('data.csv','r') as f:\n",
        "      reader = csv.DictReader(f)\n",
        "      items = list(reader)\n",
        "\n",
        "    for item in items:\n",
        "      Item(\n",
        "          name= item.get('name'),\n",
        "          price = float(item.get('price')),\n",
        "          quantity =float(item.get('quantity')),\n",
        "      )\n",
        "  @staticmethod             #  relationship with class directly, no instances neccessarily required\n",
        "  def is_integer(num):\n",
        "      #to check if the received argument is integer or not\n",
        "      if isinstance(num,float):    #count the floats that are .0\n",
        "        return num.is_integer()\n",
        "      elif isinstance(num,int):\n",
        "        return True\n",
        "      else:\n",
        "        return False\n",
        "\n",
        "\n",
        "  def __repr__(self):\n",
        "    return f\"{self.__class__.__name__}({self.name}',{self.price},{self.quantity})\" #for writing the instances in an appropriate format for python documentations\n",
        "  def __connect(self,smpt_server):\n",
        "    pass\n",
        "  def __prepare_body(self):\n",
        "    return f\"Hello Someone. We have {self.name}{self.quantity} times.Regards JimShapedCoding\"\n",
        "  def __send(self):\n",
        "    pass\n",
        "  def send_email(self):       #adding __ would make the functions private\n",
        "    self.__connect('')\n",
        "    self.__prepare_body()\n",
        "    self.__send()"
      ]
    },
    {
      "cell_type": "code",
      "source": [
        "item1 = Item(\"Phone\",100,1)\n",
        "print(item1.calculate_total_price())\n"
      ],
      "metadata": {
        "colab": {
          "base_uri": "https://localhost:8080/"
        },
        "id": "KFHbZrD7REf5",
        "outputId": "298aeab6-e477-4864-aed9-a7a5f6d87a86"
      },
      "execution_count": 187,
      "outputs": [
        {
          "output_type": "stream",
          "name": "stdout",
          "text": [
            "100\n"
          ]
        }
      ]
    },
    {
      "cell_type": "code",
      "source": [
        "print(item1.__dict__) #for finding the attributes at instance evel"
      ],
      "metadata": {
        "colab": {
          "base_uri": "https://localhost:8080/"
        },
        "id": "H0aRZ-2FfnEB",
        "outputId": "fa73f6a3-ea7d-410b-b34b-9967f8c0b729"
      },
      "execution_count": 188,
      "outputs": [
        {
          "output_type": "stream",
          "name": "stdout",
          "text": [
            "{'_Item__name': 'Phone', '_Item__price': 100, 'quantity': 1}\n"
          ]
        }
      ]
    },
    {
      "cell_type": "code",
      "source": [
        "item2 = Item(\"Laptop\",200,1)\n",
        "item2.pay_rate = 0.7\n",
        "item2.apply_discount()\n",
        "print(item2.price)"
      ],
      "metadata": {
        "colab": {
          "base_uri": "https://localhost:8080/"
        },
        "id": "KHAvd-0ngplH",
        "outputId": "10c7f569-72d7-4fb1-dbaa-4c33d6c1c000"
      },
      "execution_count": 189,
      "outputs": [
        {
          "output_type": "stream",
          "name": "stdout",
          "text": [
            "140.0\n"
          ]
        }
      ]
    },
    {
      "cell_type": "code",
      "source": [
        "item1 = Item(\"Phone\", 100, 1)\n",
        "item2 = Item(\"Laptop\", 1000, 3)\n",
        "item3 = Item(\"Cable\", 10, 5)\n",
        "item4 = Item(\"Mouse\", 50, 5)\n",
        "item5 = Item(\"Keyboard\", 75, 5)"
      ],
      "metadata": {
        "id": "DN9pq1evArdb"
      },
      "execution_count": 190,
      "outputs": []
    },
    {
      "cell_type": "code",
      "source": [
        "print(Item.all)"
      ],
      "metadata": {
        "colab": {
          "base_uri": "https://localhost:8080/"
        },
        "id": "AhW-89vmCuZ4",
        "outputId": "e8aa5de7-f916-4567-a966-d893026571af"
      },
      "execution_count": 191,
      "outputs": [
        {
          "output_type": "stream",
          "name": "stdout",
          "text": [
            "[Item(Phone',100,1), Item(Laptop',140.0,1), Item(Phone',100,1), Item(Laptop',1000,3), Item(Cable',10,5), Item(Mouse',50,5), Item(Keyboard',75,5)]\n"
          ]
        }
      ]
    },
    {
      "cell_type": "code",
      "source": [
        "for instance in Item.all:    #for checking the instances\n",
        "  print(instance.name)"
      ],
      "metadata": {
        "colab": {
          "base_uri": "https://localhost:8080/"
        },
        "id": "8SOQN6EnDSAH",
        "outputId": "5bd9eb74-a23f-4451-9c38-e96eed0b61fd"
      },
      "execution_count": 192,
      "outputs": [
        {
          "output_type": "stream",
          "name": "stdout",
          "text": [
            "Phone\n",
            "Laptop\n",
            "Phone\n",
            "Laptop\n",
            "Cable\n",
            "Mouse\n",
            "Keyboard\n"
          ]
        }
      ]
    },
    {
      "cell_type": "code",
      "source": [
        "data = [\n",
        "    ['Name', 'price', 'quantity'],\n",
        "    [\"Phone\", 100.1, 1],\n",
        "    [\"Laptop\", 1000, 3],\n",
        "    [\"Cable\", 10, 5],\n",
        "    [\"Mouse\", 50, 5],\n",
        "    [\"Keyboard\", 75, 5]\n",
        "]\n"
      ],
      "metadata": {
        "id": "oa3c7Q-EEjAN"
      },
      "execution_count": 193,
      "outputs": []
    },
    {
      "cell_type": "code",
      "source": [
        "import csv\n",
        "\n",
        "file_name = 'data.csv'\n",
        "\n",
        "# Open the CSV file in write mode and write the data\n",
        "with open(file_name, mode='w', newline='') as file:\n",
        "    writer = csv.writer(file)\n",
        "    writer.writerows(data)\n",
        "\n",
        "print(f'CSV file \"{file_name}\" has been created successfully.')"
      ],
      "metadata": {
        "colab": {
          "base_uri": "https://localhost:8080/"
        },
        "id": "3GgeLX8mGRD-",
        "outputId": "8de86c77-099e-4885-d164-27ff236a427f"
      },
      "execution_count": 194,
      "outputs": [
        {
          "output_type": "stream",
          "name": "stdout",
          "text": [
            "CSV file \"data.csv\" has been created successfully.\n"
          ]
        }
      ]
    },
    {
      "cell_type": "code",
      "source": [
        "import pandas as pd\n",
        "\n",
        "\n",
        "file_path = 'data.csv'\n",
        "\n",
        "# Read the CSV file into a DataFrame\n",
        "df = pd.read_csv(file_path)\n",
        "\n",
        "# Display the DataFrame\n",
        "display(df)\n"
      ],
      "metadata": {
        "colab": {
          "base_uri": "https://localhost:8080/",
          "height": 206
        },
        "id": "sW9jDX-IGeNw",
        "outputId": "fc57e01e-9922-494c-e610-4f1bc43fbe5f"
      },
      "execution_count": 195,
      "outputs": [
        {
          "output_type": "display_data",
          "data": {
            "text/plain": [
              "       Name   price  quantity\n",
              "0     Phone   100.1         1\n",
              "1    Laptop  1000.0         3\n",
              "2     Cable    10.0         5\n",
              "3     Mouse    50.0         5\n",
              "4  Keyboard    75.0         5"
            ],
            "text/html": [
              "\n",
              "  <div id=\"df-7933d8a4-5f57-4bce-9de6-a1fd7305ce8f\" class=\"colab-df-container\">\n",
              "    <div>\n",
              "<style scoped>\n",
              "    .dataframe tbody tr th:only-of-type {\n",
              "        vertical-align: middle;\n",
              "    }\n",
              "\n",
              "    .dataframe tbody tr th {\n",
              "        vertical-align: top;\n",
              "    }\n",
              "\n",
              "    .dataframe thead th {\n",
              "        text-align: right;\n",
              "    }\n",
              "</style>\n",
              "<table border=\"1\" class=\"dataframe\">\n",
              "  <thead>\n",
              "    <tr style=\"text-align: right;\">\n",
              "      <th></th>\n",
              "      <th>Name</th>\n",
              "      <th>price</th>\n",
              "      <th>quantity</th>\n",
              "    </tr>\n",
              "  </thead>\n",
              "  <tbody>\n",
              "    <tr>\n",
              "      <th>0</th>\n",
              "      <td>Phone</td>\n",
              "      <td>100.1</td>\n",
              "      <td>1</td>\n",
              "    </tr>\n",
              "    <tr>\n",
              "      <th>1</th>\n",
              "      <td>Laptop</td>\n",
              "      <td>1000.0</td>\n",
              "      <td>3</td>\n",
              "    </tr>\n",
              "    <tr>\n",
              "      <th>2</th>\n",
              "      <td>Cable</td>\n",
              "      <td>10.0</td>\n",
              "      <td>5</td>\n",
              "    </tr>\n",
              "    <tr>\n",
              "      <th>3</th>\n",
              "      <td>Mouse</td>\n",
              "      <td>50.0</td>\n",
              "      <td>5</td>\n",
              "    </tr>\n",
              "    <tr>\n",
              "      <th>4</th>\n",
              "      <td>Keyboard</td>\n",
              "      <td>75.0</td>\n",
              "      <td>5</td>\n",
              "    </tr>\n",
              "  </tbody>\n",
              "</table>\n",
              "</div>\n",
              "    <div class=\"colab-df-buttons\">\n",
              "\n",
              "  <div class=\"colab-df-container\">\n",
              "    <button class=\"colab-df-convert\" onclick=\"convertToInteractive('df-7933d8a4-5f57-4bce-9de6-a1fd7305ce8f')\"\n",
              "            title=\"Convert this dataframe to an interactive table.\"\n",
              "            style=\"display:none;\">\n",
              "\n",
              "  <svg xmlns=\"http://www.w3.org/2000/svg\" height=\"24px\" viewBox=\"0 -960 960 960\">\n",
              "    <path d=\"M120-120v-720h720v720H120Zm60-500h600v-160H180v160Zm220 220h160v-160H400v160Zm0 220h160v-160H400v160ZM180-400h160v-160H180v160Zm440 0h160v-160H620v160ZM180-180h160v-160H180v160Zm440 0h160v-160H620v160Z\"/>\n",
              "  </svg>\n",
              "    </button>\n",
              "\n",
              "  <style>\n",
              "    .colab-df-container {\n",
              "      display:flex;\n",
              "      gap: 12px;\n",
              "    }\n",
              "\n",
              "    .colab-df-convert {\n",
              "      background-color: #E8F0FE;\n",
              "      border: none;\n",
              "      border-radius: 50%;\n",
              "      cursor: pointer;\n",
              "      display: none;\n",
              "      fill: #1967D2;\n",
              "      height: 32px;\n",
              "      padding: 0 0 0 0;\n",
              "      width: 32px;\n",
              "    }\n",
              "\n",
              "    .colab-df-convert:hover {\n",
              "      background-color: #E2EBFA;\n",
              "      box-shadow: 0px 1px 2px rgba(60, 64, 67, 0.3), 0px 1px 3px 1px rgba(60, 64, 67, 0.15);\n",
              "      fill: #174EA6;\n",
              "    }\n",
              "\n",
              "    .colab-df-buttons div {\n",
              "      margin-bottom: 4px;\n",
              "    }\n",
              "\n",
              "    [theme=dark] .colab-df-convert {\n",
              "      background-color: #3B4455;\n",
              "      fill: #D2E3FC;\n",
              "    }\n",
              "\n",
              "    [theme=dark] .colab-df-convert:hover {\n",
              "      background-color: #434B5C;\n",
              "      box-shadow: 0px 1px 3px 1px rgba(0, 0, 0, 0.15);\n",
              "      filter: drop-shadow(0px 1px 2px rgba(0, 0, 0, 0.3));\n",
              "      fill: #FFFFFF;\n",
              "    }\n",
              "  </style>\n",
              "\n",
              "    <script>\n",
              "      const buttonEl =\n",
              "        document.querySelector('#df-7933d8a4-5f57-4bce-9de6-a1fd7305ce8f button.colab-df-convert');\n",
              "      buttonEl.style.display =\n",
              "        google.colab.kernel.accessAllowed ? 'block' : 'none';\n",
              "\n",
              "      async function convertToInteractive(key) {\n",
              "        const element = document.querySelector('#df-7933d8a4-5f57-4bce-9de6-a1fd7305ce8f');\n",
              "        const dataTable =\n",
              "          await google.colab.kernel.invokeFunction('convertToInteractive',\n",
              "                                                    [key], {});\n",
              "        if (!dataTable) return;\n",
              "\n",
              "        const docLinkHtml = 'Like what you see? Visit the ' +\n",
              "          '<a target=\"_blank\" href=https://colab.research.google.com/notebooks/data_table.ipynb>data table notebook</a>'\n",
              "          + ' to learn more about interactive tables.';\n",
              "        element.innerHTML = '';\n",
              "        dataTable['output_type'] = 'display_data';\n",
              "        await google.colab.output.renderOutput(dataTable, element);\n",
              "        const docLink = document.createElement('div');\n",
              "        docLink.innerHTML = docLinkHtml;\n",
              "        element.appendChild(docLink);\n",
              "      }\n",
              "    </script>\n",
              "  </div>\n",
              "\n",
              "\n",
              "<div id=\"df-646777cc-97a6-4d9a-bbee-1d83646c5a30\">\n",
              "  <button class=\"colab-df-quickchart\" onclick=\"quickchart('df-646777cc-97a6-4d9a-bbee-1d83646c5a30')\"\n",
              "            title=\"Suggest charts\"\n",
              "            style=\"display:none;\">\n",
              "\n",
              "<svg xmlns=\"http://www.w3.org/2000/svg\" height=\"24px\"viewBox=\"0 0 24 24\"\n",
              "     width=\"24px\">\n",
              "    <g>\n",
              "        <path d=\"M19 3H5c-1.1 0-2 .9-2 2v14c0 1.1.9 2 2 2h14c1.1 0 2-.9 2-2V5c0-1.1-.9-2-2-2zM9 17H7v-7h2v7zm4 0h-2V7h2v10zm4 0h-2v-4h2v4z\"/>\n",
              "    </g>\n",
              "</svg>\n",
              "  </button>\n",
              "\n",
              "<style>\n",
              "  .colab-df-quickchart {\n",
              "      --bg-color: #E8F0FE;\n",
              "      --fill-color: #1967D2;\n",
              "      --hover-bg-color: #E2EBFA;\n",
              "      --hover-fill-color: #174EA6;\n",
              "      --disabled-fill-color: #AAA;\n",
              "      --disabled-bg-color: #DDD;\n",
              "  }\n",
              "\n",
              "  [theme=dark] .colab-df-quickchart {\n",
              "      --bg-color: #3B4455;\n",
              "      --fill-color: #D2E3FC;\n",
              "      --hover-bg-color: #434B5C;\n",
              "      --hover-fill-color: #FFFFFF;\n",
              "      --disabled-bg-color: #3B4455;\n",
              "      --disabled-fill-color: #666;\n",
              "  }\n",
              "\n",
              "  .colab-df-quickchart {\n",
              "    background-color: var(--bg-color);\n",
              "    border: none;\n",
              "    border-radius: 50%;\n",
              "    cursor: pointer;\n",
              "    display: none;\n",
              "    fill: var(--fill-color);\n",
              "    height: 32px;\n",
              "    padding: 0;\n",
              "    width: 32px;\n",
              "  }\n",
              "\n",
              "  .colab-df-quickchart:hover {\n",
              "    background-color: var(--hover-bg-color);\n",
              "    box-shadow: 0 1px 2px rgba(60, 64, 67, 0.3), 0 1px 3px 1px rgba(60, 64, 67, 0.15);\n",
              "    fill: var(--button-hover-fill-color);\n",
              "  }\n",
              "\n",
              "  .colab-df-quickchart-complete:disabled,\n",
              "  .colab-df-quickchart-complete:disabled:hover {\n",
              "    background-color: var(--disabled-bg-color);\n",
              "    fill: var(--disabled-fill-color);\n",
              "    box-shadow: none;\n",
              "  }\n",
              "\n",
              "  .colab-df-spinner {\n",
              "    border: 2px solid var(--fill-color);\n",
              "    border-color: transparent;\n",
              "    border-bottom-color: var(--fill-color);\n",
              "    animation:\n",
              "      spin 1s steps(1) infinite;\n",
              "  }\n",
              "\n",
              "  @keyframes spin {\n",
              "    0% {\n",
              "      border-color: transparent;\n",
              "      border-bottom-color: var(--fill-color);\n",
              "      border-left-color: var(--fill-color);\n",
              "    }\n",
              "    20% {\n",
              "      border-color: transparent;\n",
              "      border-left-color: var(--fill-color);\n",
              "      border-top-color: var(--fill-color);\n",
              "    }\n",
              "    30% {\n",
              "      border-color: transparent;\n",
              "      border-left-color: var(--fill-color);\n",
              "      border-top-color: var(--fill-color);\n",
              "      border-right-color: var(--fill-color);\n",
              "    }\n",
              "    40% {\n",
              "      border-color: transparent;\n",
              "      border-right-color: var(--fill-color);\n",
              "      border-top-color: var(--fill-color);\n",
              "    }\n",
              "    60% {\n",
              "      border-color: transparent;\n",
              "      border-right-color: var(--fill-color);\n",
              "    }\n",
              "    80% {\n",
              "      border-color: transparent;\n",
              "      border-right-color: var(--fill-color);\n",
              "      border-bottom-color: var(--fill-color);\n",
              "    }\n",
              "    90% {\n",
              "      border-color: transparent;\n",
              "      border-bottom-color: var(--fill-color);\n",
              "    }\n",
              "  }\n",
              "</style>\n",
              "\n",
              "  <script>\n",
              "    async function quickchart(key) {\n",
              "      const quickchartButtonEl =\n",
              "        document.querySelector('#' + key + ' button');\n",
              "      quickchartButtonEl.disabled = true;  // To prevent multiple clicks.\n",
              "      quickchartButtonEl.classList.add('colab-df-spinner');\n",
              "      try {\n",
              "        const charts = await google.colab.kernel.invokeFunction(\n",
              "            'suggestCharts', [key], {});\n",
              "      } catch (error) {\n",
              "        console.error('Error during call to suggestCharts:', error);\n",
              "      }\n",
              "      quickchartButtonEl.classList.remove('colab-df-spinner');\n",
              "      quickchartButtonEl.classList.add('colab-df-quickchart-complete');\n",
              "    }\n",
              "    (() => {\n",
              "      let quickchartButtonEl =\n",
              "        document.querySelector('#df-646777cc-97a6-4d9a-bbee-1d83646c5a30 button');\n",
              "      quickchartButtonEl.style.display =\n",
              "        google.colab.kernel.accessAllowed ? 'block' : 'none';\n",
              "    })();\n",
              "  </script>\n",
              "</div>\n",
              "\n",
              "  <div id=\"id_cd7baa44-9b8e-4b35-9124-7c078571fef7\">\n",
              "    <style>\n",
              "      .colab-df-generate {\n",
              "        background-color: #E8F0FE;\n",
              "        border: none;\n",
              "        border-radius: 50%;\n",
              "        cursor: pointer;\n",
              "        display: none;\n",
              "        fill: #1967D2;\n",
              "        height: 32px;\n",
              "        padding: 0 0 0 0;\n",
              "        width: 32px;\n",
              "      }\n",
              "\n",
              "      .colab-df-generate:hover {\n",
              "        background-color: #E2EBFA;\n",
              "        box-shadow: 0px 1px 2px rgba(60, 64, 67, 0.3), 0px 1px 3px 1px rgba(60, 64, 67, 0.15);\n",
              "        fill: #174EA6;\n",
              "      }\n",
              "\n",
              "      [theme=dark] .colab-df-generate {\n",
              "        background-color: #3B4455;\n",
              "        fill: #D2E3FC;\n",
              "      }\n",
              "\n",
              "      [theme=dark] .colab-df-generate:hover {\n",
              "        background-color: #434B5C;\n",
              "        box-shadow: 0px 1px 3px 1px rgba(0, 0, 0, 0.15);\n",
              "        filter: drop-shadow(0px 1px 2px rgba(0, 0, 0, 0.3));\n",
              "        fill: #FFFFFF;\n",
              "      }\n",
              "    </style>\n",
              "    <button class=\"colab-df-generate\" onclick=\"generateWithVariable('df')\"\n",
              "            title=\"Generate code using this dataframe.\"\n",
              "            style=\"display:none;\">\n",
              "\n",
              "  <svg xmlns=\"http://www.w3.org/2000/svg\" height=\"24px\"viewBox=\"0 0 24 24\"\n",
              "       width=\"24px\">\n",
              "    <path d=\"M7,19H8.4L18.45,9,17,7.55,7,17.6ZM5,21V16.75L18.45,3.32a2,2,0,0,1,2.83,0l1.4,1.43a1.91,1.91,0,0,1,.58,1.4,1.91,1.91,0,0,1-.58,1.4L9.25,21ZM18.45,9,17,7.55Zm-12,3A5.31,5.31,0,0,0,4.9,8.1,5.31,5.31,0,0,0,1,6.5,5.31,5.31,0,0,0,4.9,4.9,5.31,5.31,0,0,0,6.5,1,5.31,5.31,0,0,0,8.1,4.9,5.31,5.31,0,0,0,12,6.5,5.46,5.46,0,0,0,6.5,12Z\"/>\n",
              "  </svg>\n",
              "    </button>\n",
              "    <script>\n",
              "      (() => {\n",
              "      const buttonEl =\n",
              "        document.querySelector('#id_cd7baa44-9b8e-4b35-9124-7c078571fef7 button.colab-df-generate');\n",
              "      buttonEl.style.display =\n",
              "        google.colab.kernel.accessAllowed ? 'block' : 'none';\n",
              "\n",
              "      buttonEl.onclick = () => {\n",
              "        google.colab.notebook.generateWithVariable('df');\n",
              "      }\n",
              "      })();\n",
              "    </script>\n",
              "  </div>\n",
              "\n",
              "    </div>\n",
              "  </div>\n"
            ],
            "application/vnd.google.colaboratory.intrinsic+json": {
              "type": "dataframe",
              "variable_name": "df",
              "summary": "{\n  \"name\": \"df\",\n  \"rows\": 5,\n  \"fields\": [\n    {\n      \"column\": \"Name\",\n      \"properties\": {\n        \"dtype\": \"string\",\n        \"num_unique_values\": 5,\n        \"samples\": [\n          \"Laptop\",\n          \"Keyboard\",\n          \"Cable\"\n        ],\n        \"semantic_type\": \"\",\n        \"description\": \"\"\n      }\n    },\n    {\n      \"column\": \"price\",\n      \"properties\": {\n        \"dtype\": \"number\",\n        \"std\": 422.24122489401725,\n        \"min\": 10.0,\n        \"max\": 1000.0,\n        \"num_unique_values\": 5,\n        \"samples\": [\n          1000.0,\n          75.0,\n          10.0\n        ],\n        \"semantic_type\": \"\",\n        \"description\": \"\"\n      }\n    },\n    {\n      \"column\": \"quantity\",\n      \"properties\": {\n        \"dtype\": \"number\",\n        \"std\": 1,\n        \"min\": 1,\n        \"max\": 5,\n        \"num_unique_values\": 3,\n        \"samples\": [\n          1,\n          3,\n          5\n        ],\n        \"semantic_type\": \"\",\n        \"description\": \"\"\n      }\n    }\n  ]\n}"
            }
          },
          "metadata": {}
        }
      ]
    },
    {
      "cell_type": "code",
      "source": [
        "Item.instantitate_from_csv()\n",
        "print(Item.all)"
      ],
      "metadata": {
        "colab": {
          "base_uri": "https://localhost:8080/"
        },
        "id": "NHqeo1V8HEg0",
        "outputId": "9fb72c64-28ed-4d33-8e59-322636182eed"
      },
      "execution_count": 196,
      "outputs": [
        {
          "output_type": "stream",
          "name": "stdout",
          "text": [
            "[Item(Phone',100,1), Item(Laptop',140.0,1), Item(Phone',100,1), Item(Laptop',1000,3), Item(Cable',10,5), Item(Mouse',50,5), Item(Keyboard',75,5), Item(None',100.1,1.0), Item(None',1000.0,3.0), Item(None',10.0,5.0), Item(None',50.0,5.0), Item(None',75.0,5.0)]\n"
          ]
        }
      ]
    },
    {
      "cell_type": "code",
      "source": [
        "print(Item.is_integer(7.0))"
      ],
      "metadata": {
        "colab": {
          "base_uri": "https://localhost:8080/"
        },
        "id": "WFV-DFQcJ03Q",
        "outputId": "d24f000a-3ea7-4ce1-d78e-76ea3e7bb6c8"
      },
      "execution_count": 197,
      "outputs": [
        {
          "output_type": "stream",
          "name": "stdout",
          "text": [
            "True\n"
          ]
        }
      ]
    },
    {
      "cell_type": "code",
      "source": [
        "class Phone(Item):\n",
        "    def __init__(self,name:str,price:float,quantity=0,broken_phones=0):\n",
        "      #Call to super function\n",
        "       super().__init__(name,price,quantity)\n",
        "    #Run validations to the received arguments\n",
        "       assert broken_phones >=0, f\"Quantity {broken_phones} is not greater than or equal to zero!\"\n",
        "       self.broken_phones = broken_phones\n",
        "\n",
        ""
      ],
      "metadata": {
        "id": "OAqEg64sL25J"
      },
      "execution_count": 198,
      "outputs": []
    },
    {
      "cell_type": "code",
      "source": [
        "phone1 = Phone(\"jscPhonev10\",500,5)\n",
        "phone2 = Phone(\"jscPhonev20\",700,5)\n",
        "print(phone2.calculate_total_price())\n"
      ],
      "metadata": {
        "colab": {
          "base_uri": "https://localhost:8080/"
        },
        "id": "nnLbb8MUOVYi",
        "outputId": "84139430-3f00-4300-8b08-8c0e7241a1b1"
      },
      "execution_count": 199,
      "outputs": [
        {
          "output_type": "stream",
          "name": "stdout",
          "text": [
            "3500\n"
          ]
        }
      ]
    },
    {
      "cell_type": "code",
      "source": [
        "print(Phone.all)"
      ],
      "metadata": {
        "colab": {
          "base_uri": "https://localhost:8080/"
        },
        "id": "PwoYDIi4QH96",
        "outputId": "5ca43f9f-a812-4f24-aed8-e6377ee180e3"
      },
      "execution_count": 200,
      "outputs": [
        {
          "output_type": "stream",
          "name": "stdout",
          "text": [
            "[Item(Phone',100,1), Item(Laptop',140.0,1), Item(Phone',100,1), Item(Laptop',1000,3), Item(Cable',10,5), Item(Mouse',50,5), Item(Keyboard',75,5), Item(None',100.1,1.0), Item(None',1000.0,3.0), Item(None',10.0,5.0), Item(None',50.0,5.0), Item(None',75.0,5.0), Phone(jscPhonev10',500,5), Phone(jscPhonev20',700,5)]\n"
          ]
        }
      ]
    },
    {
      "cell_type": "code",
      "source": [
        "print(Item.all)"
      ],
      "metadata": {
        "colab": {
          "base_uri": "https://localhost:8080/"
        },
        "id": "AMMoiP9fSSnG",
        "outputId": "e2501ab8-a278-4e08-c1c3-f6210ad151e5"
      },
      "execution_count": 201,
      "outputs": [
        {
          "output_type": "stream",
          "name": "stdout",
          "text": [
            "[Item(Phone',100,1), Item(Laptop',140.0,1), Item(Phone',100,1), Item(Laptop',1000,3), Item(Cable',10,5), Item(Mouse',50,5), Item(Keyboard',75,5), Item(None',100.1,1.0), Item(None',1000.0,3.0), Item(None',10.0,5.0), Item(None',50.0,5.0), Item(None',75.0,5.0), Phone(jscPhonev10',500,5), Phone(jscPhonev20',700,5)]\n"
          ]
        }
      ]
    },
    {
      "cell_type": "code",
      "source": [
        "\n",
        "item1 = Item(\"MyItem\",750)\n",
        "item1.name = \"Other Itemmmmmmmmm\"\n",
        "print(item1.name)"
      ],
      "metadata": {
        "colab": {
          "base_uri": "https://localhost:8080/",
          "height": 311
        },
        "id": "AJmLTIp0TMtH",
        "outputId": "e94bcbe8-efbf-4184-e9a9-98c399c1a062"
      },
      "execution_count": 202,
      "outputs": [
        {
          "output_type": "error",
          "ename": "Exception",
          "evalue": "The name is too long!",
          "traceback": [
            "\u001b[0;31m---------------------------------------------------------------------------\u001b[0m",
            "\u001b[0;31mException\u001b[0m                                 Traceback (most recent call last)",
            "\u001b[0;32m<ipython-input-202-402f107040a5>\u001b[0m in \u001b[0;36m<cell line: 2>\u001b[0;34m()\u001b[0m\n\u001b[1;32m      1\u001b[0m \u001b[0mitem1\u001b[0m \u001b[0;34m=\u001b[0m \u001b[0mItem\u001b[0m\u001b[0;34m(\u001b[0m\u001b[0;34m\"MyItem\"\u001b[0m\u001b[0;34m,\u001b[0m\u001b[0;36m750\u001b[0m\u001b[0;34m)\u001b[0m\u001b[0;34m\u001b[0m\u001b[0;34m\u001b[0m\u001b[0m\n\u001b[0;32m----> 2\u001b[0;31m \u001b[0mitem1\u001b[0m\u001b[0;34m.\u001b[0m\u001b[0mname\u001b[0m \u001b[0;34m=\u001b[0m \u001b[0;34m\"Other Itemmmmmmmmm\"\u001b[0m\u001b[0;34m\u001b[0m\u001b[0;34m\u001b[0m\u001b[0m\n\u001b[0m\u001b[1;32m      3\u001b[0m \u001b[0mprint\u001b[0m\u001b[0;34m(\u001b[0m\u001b[0mitem1\u001b[0m\u001b[0;34m.\u001b[0m\u001b[0mname\u001b[0m\u001b[0;34m)\u001b[0m\u001b[0;34m\u001b[0m\u001b[0;34m\u001b[0m\u001b[0m\n",
            "\u001b[0;32m<ipython-input-186-cb5d47a69d3e>\u001b[0m in \u001b[0;36mname\u001b[0;34m(self, value)\u001b[0m\n\u001b[1;32m     27\u001b[0m   \u001b[0;32mdef\u001b[0m \u001b[0mname\u001b[0m\u001b[0;34m(\u001b[0m\u001b[0mself\u001b[0m\u001b[0;34m,\u001b[0m\u001b[0mvalue\u001b[0m\u001b[0;34m)\u001b[0m\u001b[0;34m:\u001b[0m\u001b[0;34m\u001b[0m\u001b[0;34m\u001b[0m\u001b[0m\n\u001b[1;32m     28\u001b[0m       \u001b[0;32mif\u001b[0m \u001b[0mlen\u001b[0m\u001b[0;34m(\u001b[0m\u001b[0mvalue\u001b[0m\u001b[0;34m)\u001b[0m\u001b[0;34m>\u001b[0m\u001b[0;36m10\u001b[0m\u001b[0;34m:\u001b[0m\u001b[0;34m\u001b[0m\u001b[0;34m\u001b[0m\u001b[0m\n\u001b[0;32m---> 29\u001b[0;31m          \u001b[0;32mraise\u001b[0m \u001b[0mException\u001b[0m\u001b[0;34m(\u001b[0m\u001b[0;34m\"The name is too long!\"\u001b[0m\u001b[0;34m)\u001b[0m\u001b[0;34m\u001b[0m\u001b[0;34m\u001b[0m\u001b[0m\n\u001b[0m\u001b[1;32m     30\u001b[0m       \u001b[0;32melse\u001b[0m \u001b[0;34m:\u001b[0m\u001b[0;34m\u001b[0m\u001b[0;34m\u001b[0m\u001b[0m\n\u001b[1;32m     31\u001b[0m         \u001b[0mself\u001b[0m\u001b[0;34m.\u001b[0m\u001b[0m__name\u001b[0m \u001b[0;34m=\u001b[0m \u001b[0mvalue\u001b[0m\u001b[0;34m\u001b[0m\u001b[0;34m\u001b[0m\u001b[0m\n",
            "\u001b[0;31mException\u001b[0m: The name is too long!"
          ]
        }
      ]
    },
    {
      "cell_type": "code",
      "source": [
        "item1 = Item(\"MyItem\",750)\n",
        "item1.apply_increment(0.2)\n",
        "print(item1.price)"
      ],
      "metadata": {
        "colab": {
          "base_uri": "https://localhost:8080/"
        },
        "id": "mnFHgdG6Y9In",
        "outputId": "3a25bc1a-82df-4086-9a6a-f6f6b5109dd0"
      },
      "execution_count": 203,
      "outputs": [
        {
          "output_type": "stream",
          "name": "stdout",
          "text": [
            "900.0\n"
          ]
        }
      ]
    },
    {
      "cell_type": "code",
      "source": [
        "item1.apply_discount()\n",
        "print(item1.price)"
      ],
      "metadata": {
        "colab": {
          "base_uri": "https://localhost:8080/"
        },
        "id": "bOg0aedaf7mV",
        "outputId": "223ce5b1-85d2-4a49-95dd-94e89abcf566"
      },
      "execution_count": 204,
      "outputs": [
        {
          "output_type": "stream",
          "name": "stdout",
          "text": [
            "720.0\n"
          ]
        }
      ]
    },
    {
      "cell_type": "code",
      "source": [
        "item1.send_email()"
      ],
      "metadata": {
        "id": "EHsyUlg1hKEV"
      },
      "execution_count": 205,
      "outputs": []
    },
    {
      "cell_type": "code",
      "source": [
        "item2 =Phone('jjj',1000,3)      #Testing inheritance\n",
        "item2.apply_increment(0.2)\n",
        "print(item2.price)"
      ],
      "metadata": {
        "colab": {
          "base_uri": "https://localhost:8080/"
        },
        "id": "dDBPQWEF45kr",
        "outputId": "d97b6d99-428b-43f4-ef69-c22ade346a0a"
      },
      "execution_count": 206,
      "outputs": [
        {
          "output_type": "stream",
          "name": "stdout",
          "text": [
            "1200.0\n"
          ]
        }
      ]
    },
    {
      "cell_type": "code",
      "source": [
        "class Keyboard(Item):\n",
        "    pay_rate =0.7        #You can apply the respective discount rate for each child class.\n",
        "    def __init__(self,name:str,price:float,quantity=0):\n",
        "      #Call to super function\n",
        "       super().__init__(name,price,quantity)\n",
        ""
      ],
      "metadata": {
        "id": "9BuuDNyP51tW"
      },
      "execution_count": 208,
      "outputs": []
    },
    {
      "cell_type": "code",
      "source": [
        "item1 = Keyboard('jjj',1000,3)\n",
        "item1.apply_discount()\n",
        "print(item1.price)"
      ],
      "metadata": {
        "colab": {
          "base_uri": "https://localhost:8080/"
        },
        "id": "iyeJ6_vt6hJz",
        "outputId": "a18bf0fd-2337-41a8-f707-ab8621c64af1"
      },
      "execution_count": 209,
      "outputs": [
        {
          "output_type": "stream",
          "name": "stdout",
          "text": [
            "700.0\n"
          ]
        }
      ]
    },
    {
      "cell_type": "code",
      "source": [],
      "metadata": {
        "id": "IJCW4rW46g4L"
      },
      "execution_count": null,
      "outputs": []
    }
  ]
}